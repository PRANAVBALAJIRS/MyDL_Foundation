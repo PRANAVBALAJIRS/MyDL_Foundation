{
  "cells": [
    {
      "cell_type": "code",
      "execution_count": null,
      "metadata": {
        "id": "AILRmIVMsMHn"
      },
      "outputs": [],
      "source": [
        "import torch\n",
        "import torch.nn as nn\n",
        "import torchvision.transforms as transforms\n",
        "from torch.autograd import Variable\n",
        "import torch.nn.functional as F\n",
        "import torch.optim as optim\n",
        "import matplotlib.pyplot as plt\n",
        "from PIL import Image"
      ]
    },
    {
      "cell_type": "code",
      "execution_count": null,
      "metadata": {
        "id": "VGNJziHEuUJv"
      },
      "outputs": [],
      "source": [
        "!unzip RockPaper.zip"
      ]
    },
    {
      "cell_type": "code",
      "execution_count": null,
      "metadata": {
        "id": "rYkHQSn2uX-I"
      },
      "outputs": [],
      "source": [
        "train_dir =  '/content/train'\n",
        "test_dir = '/content/test'\n",
        "valid_dir = '/content/valid'"
      ]
    },
    {
      "cell_type": "code",
      "execution_count": null,
      "metadata": {
        "id": "ptEilh-xKAAf"
      },
      "outputs": [],
      "source": [
        "gpu_available = torch.cuda.is_available()\n",
        "print('Using Pytorch version: %s. GPU %s available' % (torch.__version__, \"IS\" if gpu_available else \"is NOT\"))\n",
        "DEVICE = torch.device(\"cuda\" if torch.cuda.is_available() else \"cpu\")\n",
        "print(f\"Will train model on {DEVICE}\")"
      ]
    },
    {
      "cell_type": "code",
      "execution_count": null,
      "metadata": {
        "id": "u3Yy7gV3u_rR"
      },
      "outputs": [],
      "source": [
        "from torchvision import datasets, transforms\n",
        "image_transforms = transforms.Compose([\n",
        "    transforms.Resize((224, 224)),\n",
        "    transforms.ToTensor()\n",
        "])\n",
        "\n",
        "train_data = datasets.ImageFolder(root = train_dir,\n",
        "                                 transform=image_transforms,\n",
        "                                 target_transform = None)\n",
        "\n",
        "test_data = datasets.ImageFolder(root = test_dir,\n",
        "                                 transform=image_transforms)\n",
        "\n",
        "valid_data = datasets.ImageFolder(root = valid_dir,\n",
        "                                  transform=image_transforms)\n",
        "\n",
        "print(f\"Train Data:\\n{train_data}\\nTest data:\\n{test_data}\")"
      ]
    },
    {
      "cell_type": "code",
      "execution_count": null,
      "metadata": {
        "id": "dGCqVM-80YKS"
      },
      "outputs": [],
      "source": [
        "LABELS = ['Paper','Rock','Scissors']\n",
        "train_loader = torch.utils.data.DataLoader(train_data, batch_size=64, shuffle=True)\n",
        "data_iter = iter(train_loader)\n",
        "sample_images, sample_labels = next(data_iter)\n",
        "sample_images, sample_labels = sample_images.cpu(), sample_labels.cpu().numpy()\n",
        "print(f\"images.shape: {sample_images.shape} - labels.shape: {sample_labels.shape}\")\n",
        "\n",
        "plt.figure(figsize = (20,6))\n",
        "for i in range(64):\n",
        "  plt.subplot(4, 16, i+1)\n",
        "  image = sample_images[i]\n",
        "  label_text = LABELS[sample_labels[i]]\n",
        "  image = image.permute((1,2,0))\n",
        "  plt.imshow(image.squeeze(), cmap='gray')\n",
        "  plt.title(label_text)\n",
        "  plt.axis('off')\n",
        "plt.suptitle(\"Sample Images from Test dataset\")\n",
        "plt.show()\n",
        "plt.close()"
      ]
    },
    {
      "cell_type": "code",
      "execution_count": null,
      "metadata": {
        "id": "OY6L_DIpQJ8V"
      },
      "outputs": [],
      "source": [
        "IMAGE_HEIGHT, IMAGE_WIDTH, NUM_CHANNELS, NUM_CLASSES = 224, 224, 3, 3\n",
        "NUM_EPOCHS, BATCH_SIZE, LEARNING_RATE = 100, 64, 1e-2"
      ]
    },
    {
      "cell_type": "code",
      "execution_count": null,
      "metadata": {
        "id": "AmF8B15lQ6O_"
      },
      "outputs": [],
      "source": [
        "class RPSModule(nn.Module):\n",
        "  def __init__(self):\n",
        "    super(RPSModule, self).__init__()\n",
        "    self.net = net = nn.Sequential(\n",
        "        nn.Conv2d(NUM_CHANNELS, 32, kernel_size = 5, padding = 1),\n",
        "        nn.ReLU(),\n",
        "        nn.BatchNorm2d(32),\n",
        "        nn.MaxPool2d(2,2),\n",
        "        nn.Dropout(0.4),\n",
        "\n",
        "        nn.Conv2d(32,64,kernel_size=5, padding=1),\n",
        "        nn.ReLU(),\n",
        "        nn.BatchNorm2d(64),\n",
        "        nn.MaxPool2d(2,2),\n",
        "        nn.Dropout(0.4),\n",
        "\n",
        "        nn.Conv2d(64,64, kernel_size=5, padding=1),\n",
        "        nn.ReLU(),\n",
        "        nn.BatchNorm2d(64),\n",
        "        nn.MaxPool2d(2,2),\n",
        "        nn.Dropout(0.4),\n",
        "\n",
        "        nn.Flatten(),\n",
        "        nn.Dropout(0.4),\n",
        "\n",
        "        nn.Linear(64*26*26, 512),\n",
        "        nn.ReLU(),\n",
        "        nn.Dropout(0.4),\n",
        "\n",
        "        nn.Linear(512, 3)\n",
        "    )\n",
        "\n",
        "  def forward(self, x):\n",
        "    return self.net(x)"
      ]
    },
    {
      "cell_type": "code",
      "execution_count": null,
      "metadata": {
        "id": "S64uswV0Sh8f"
      },
      "outputs": [],
      "source": [
        "train_transforms = transforms.Compose([\n",
        "    transforms.ToTensor(),\n",
        "    #transforms.Normalize(means, stds),\n",
        "    transforms.RandomAffine(0, shear=0.2),\n",
        "    transforms.RandomAffine(0, scale=(0.8,1.2)),\n",
        "    transforms.RandomRotation(20),\n",
        "    transforms.RandomHorizontalFlip(),\n",
        "    transforms.RandomVerticalFlip(),\n",
        "    transforms.CenterCrop((IMAGE_HEIGHT< IMAGE_WIDTH)),\n",
        "])\n",
        "\n",
        "image_transforms = transforms.Compose([\n",
        "    transforms.ToTensor(),\n",
        "    #transforms.Normalize(means, std)\n",
        "])"
      ]
    },
    {
      "cell_type": "code",
      "execution_count": null,
      "metadata": {
        "colab": {
          "background_save": true
        },
        "id": "-NQjqqy_33pS",
        "outputId": "d2a92884-fce5-4dbf-b684-b8c7f5162ba6"
      },
      "outputs": [
        {
          "name": "stdout",
          "output_type": "stream",
          "text": [
            "X_train shape: 2520\n",
            "y_train shape: torch.Size([2520])\n"
          ]
        }
      ],
      "source": [
        "X_train = train_data\n",
        "y_train = [label for _, label in train_data.imgs]\n",
        "\n",
        "y_train = torch.tensor(y_train)\n",
        "\n",
        "print(f\"X_train shape: {len(X_train)}\")\n",
        "print(f\"y_train shape: {y_train.shape}\")"
      ]
    },
    {
      "cell_type": "code",
      "execution_count": null,
      "metadata": {
        "colab": {
          "background_save": true
        },
        "id": "hYyCThpf546x",
        "outputId": "376f258c-35f3-4b84-ee99-e7771a43dc28"
      },
      "outputs": [
        {
          "name": "stdout",
          "output_type": "stream",
          "text": [
            "X_val shape: 372\n",
            "y_val shape: torch.Size([372])\n"
          ]
        }
      ],
      "source": [
        "X_val = valid_data\n",
        "y_val = [label for _, label in valid_data.imgs]\n",
        "\n",
        "y_val = torch.tensor(y_val)\n",
        "\n",
        "print(f\"X_val shape: {len(X_val)}\")\n",
        "print(f\"y_val shape: {y_val.shape}\")"
      ]
    },
    {
      "cell_type": "code",
      "execution_count": null,
      "metadata": {
        "colab": {
          "background_save": true
        },
        "id": "MFcQBGuO6oL_",
        "outputId": "1e36d416-e231-4db2-8c34-89b78b3047c1"
      },
      "outputs": [
        {
          "name": "stdout",
          "output_type": "stream",
          "text": [
            "X_val shape: 33\n",
            "y_val shape: torch.Size([33])\n"
          ]
        }
      ],
      "source": [
        "X_test = test_data\n",
        "y_test = [label for _, label in test_data.imgs]\n",
        "\n",
        "y_test = torch.tensor(y_test)\n",
        "\n",
        "print(f\"X_val shape: {len(X_test)}\")\n",
        "print(f\"y_val shape: {y_test.shape}\")"
      ]
    },
    {
      "cell_type": "code",
      "execution_count": null,
      "metadata": {
        "colab": {
          "background_save": true
        },
        "id": "3oNtAtmU9d9I"
      },
      "outputs": [],
      "source": [
        "from torch.utils.data import Dataset, DataLoader\n",
        "from torchvision import transforms\n",
        "class RPSDataset(Dataset):\n",
        "    def __init__(self, x, y, transforms=None):\n",
        "        self.x = x\n",
        "        self.y = torch.LongTensor(y)\n",
        "        self.transforms = transforms\n",
        "\n",
        "    def __len__(self):\n",
        "        return len(self.x)\n",
        "\n",
        "    def __getitem__(self, ix):\n",
        "        x, y = self.x[ix], self.y[ix]\n",
        "        if self.transforms is not None:\n",
        "            x = self.transforms(x)\n",
        "        return x, y"
      ]
    },
    {
      "cell_type": "code",
      "execution_count": null,
      "metadata": {
        "colab": {
          "background_save": true
        },
        "id": "6_83SY-a9U6H"
      },
      "outputs": [],
      "source": [
        "train_dataset = RPSDataset(X_train, y_train, train_transforms)\n",
        "val_dataset = RPSDataset(X_val, y_val, image_transforms)\n",
        "test_dataset = RPSDataset(X_test, y_test, image_transforms)"
      ]
    },
    {
      "cell_type": "code",
      "execution_count": null,
      "metadata": {
        "colab": {
          "background_save": true
        },
        "id": "nga5xovX9_HJ",
        "outputId": "5be100c5-0cdd-4438-f89f-0eb0ba2eec84"
      },
      "outputs": [
        {
          "name": "stdout",
          "output_type": "stream",
          "text": [
            "Dataloaders: (<torch.utils.data.dataloader.DataLoader object at 0x7de7eabbe230>, <torch.utils.data.dataloader.DataLoader object at 0x7de7eabbfb80>)\n",
            "Length of train dataloader: 79 batches of 32\n",
            "Length of test dataloader: 2 batches of 32\n"
          ]
        }
      ],
      "source": [
        "from torch.utils.data import DataLoader\n",
        "\n",
        "# Setup the batch size hyperparameter\n",
        "BATCH_SIZE = 32\n",
        "\n",
        "# Turn datasets into iterables (batches)\n",
        "train_dataloader = DataLoader(train_data, # dataset to turn into iterable\n",
        "    batch_size=BATCH_SIZE, # how many samples per batch?\n",
        "    shuffle=True # shuffle data every epoch?\n",
        ")\n",
        "\n",
        "test_dataloader = DataLoader(test_data,\n",
        "    batch_size=BATCH_SIZE,\n",
        "    shuffle=False # don't necessarily have to shuffle the testing data\n",
        ")\n",
        "\n",
        "# Let's check out what we've created\n",
        "print(f\"Dataloaders: {train_dataloader, test_dataloader}\")\n",
        "print(f\"Length of train dataloader: {len(train_dataloader)} batches of {BATCH_SIZE}\")\n",
        "print(f\"Length of test dataloader: {len(test_dataloader)} batches of {BATCH_SIZE}\")"
      ]
    },
    {
      "cell_type": "code",
      "execution_count": null,
      "metadata": {
        "colab": {
          "background_save": true
        },
        "id": "39b9mxO3-U0V",
        "outputId": "19364c9d-6bed-4879-a00b-6e0443657119"
      },
      "outputs": [
        {
          "name": "stdout",
          "output_type": "stream",
          "text": [
            "images.shape: (32, 3, 224, 224) - labels.shape: (32,)\n"
          ]
        },
        {
          "data": {
            "image/png": "[encoded data removed]",
            "text/plain": [
              "<Figure size 640x480 with 8 Axes>"
            ]
          },
          "metadata": {},
          "output_type": "display_data"
        }
      ],
      "source": [
        "data_iter = iter(train_dataloader)\n",
        "sample_images, sample_labels = next(data_iter)\n",
        "sample_images, sample_labels = sample_images.cpu().numpy(), sample_labels.cpu().numpy()\n",
        "print(f\"images.shape: {sample_images.shape} - labels.shape: {sample_labels.shape}\")\n",
        "\n",
        "#plt.figure(figsize=(5,5))\n",
        "for i in range(32):\n",
        "    plt.subplot(4, 8, i + 1)\n",
        "    image = sample_images[i]\n",
        "    #print(f\"images[{i}].shape: {image.shape} \")\n",
        "    image = image.transpose((1,2,0))\n",
        "    #print(f\" - AP: images[{i}].shape: {image.shape}\")\n",
        "    #plt.imshow(image.squeeze(), cmap='gray')\n",
        "    plt.imshow(image) # image.squeeze())\n",
        "    plt.axis('off')\n",
        "    if i > 6:\n",
        "        break\n",
        "plt.show()\n",
        "plt.close()"
      ]
    },
    {
      "cell_type": "code",
      "execution_count": null,
      "metadata": {
        "colab": {
          "background_save": true
        },
        "id": "1gnS4qOC_3yG",
        "outputId": "7617b3a0-b605-4ff8-cc51-e499b08d062b"
      },
      "outputs": [
        {
          "name": "stdout",
          "output_type": "stream",
          "text": [
            "images.shape: (32, 3, 224, 224) - labels.shape: (32,)\n"
          ]
        },
        {
          "data": {
            "image/png": "[encoded data removed]",
            "text/plain": [
              "<Figure size 640x480 with 8 Axes>"
            ]
          },
          "metadata": {},
          "output_type": "display_data"
        }
      ],
      "source": [
        "data_iter = iter(test_dataloader)\n",
        "sample_images, sample_labels = next(data_iter)\n",
        "sample_images, sample_labels = sample_images.cpu().numpy(), sample_labels.cpu().numpy()\n",
        "print(f\"images.shape: {sample_images.shape} - labels.shape: {sample_labels.shape}\")\n",
        "\n",
        "#plt.figure(figsize=(5,5))\n",
        "for i in range(32):\n",
        "    plt.subplot(4, 8, i + 1)\n",
        "    image = sample_images[i]\n",
        "    #print(f\"images[{i}].shape: {image.shape} \")\n",
        "    image = image.transpose((1,2,0))\n",
        "    #print(f\" - AP: images[{i}].shape: {image.shape}\")\n",
        "    #plt.imshow(image.squeeze(), cmap='gray')\n",
        "    plt.imshow(image)\n",
        "    plt.axis('off')\n",
        "    if i > 6:\n",
        "        break\n",
        "plt.show()\n",
        "plt.close()"
      ]
    },
    {
      "cell_type": "code",
      "execution_count": null,
      "metadata": {
        "id": "BXV7Ihf2AU_5"
      },
      "outputs": [],
      "source": [
        "pip install torchmetrics\n"
      ]
    },
    {
      "cell_type": "code",
      "execution_count": null,
      "metadata": {
        "id": "U_Acu3s1Am3R"
      },
      "outputs": [],
      "source": [
        "!pip install pytorch_training_toolkit"
      ]
    },
    {
      "cell_type": "code",
      "execution_count": null,
      "metadata": {
        "colab": {
          "background_save": true
        },
        "id": "KvzH9A3LADXp",
        "outputId": "d88a4d97-0cb0-49e0-9327-dbfc649d1028"
      },
      "outputs": [
        {
          "name": "stdout",
          "output_type": "stream",
          "text": [
            "Epoch 1, acc: 0.34365078806877136\n",
            "Epoch 1, f1: 0.342676043510437\n",
            "Epoch 2, acc: 0.3363095223903656\n",
            "Epoch 2, f1: 0.3354533910751343\n",
            "Epoch 3, acc: 0.33201056718826294\n",
            "Epoch 3, f1: 0.33130359649658203\n",
            "Epoch 4, acc: 0.3308531641960144\n",
            "Epoch 4, f1: 0.33067575097084045\n",
            "Epoch 5, acc: 0.33277779817581177\n",
            "Epoch 5, f1: 0.3325137495994568\n",
            "Epoch 6, acc: 0.33101850748062134\n",
            "Epoch 6, f1: 0.33094561100006104\n",
            "Epoch 7, acc: 0.3323695957660675\n",
            "Epoch 7, f1: 0.33226028084754944\n",
            "Epoch 8, acc: 0.33343255519866943\n",
            "Epoch 8, f1: 0.33330658078193665\n",
            "Epoch 9, acc: 0.3343915343284607\n",
            "Epoch 9, f1: 0.3342837989330292\n"
          ]
        }
      ],
      "source": [
        "import torch\n",
        "from torch.utils.data import DataLoader\n",
        "from torchmetrics.classification import MulticlassAccuracy, MulticlassF1Score\n",
        "\n",
        "# Define your metrics\n",
        "metrics_map = {\n",
        "    \"acc\": MulticlassAccuracy(num_classes=NUM_CLASSES),\n",
        "    \"f1\": MulticlassF1Score(num_classes=NUM_CLASSES)\n",
        "}\n",
        "\n",
        "# Define your loss function\n",
        "loss_fn = torch.nn.CrossEntropyLoss()\n",
        "\n",
        "# Define your trainer function\n",
        "def train(model, optimizer, train_loader, loss_fn, metrics_map, device):\n",
        "    RPSModule().train()\n",
        "    for images, labels in train_loader:\n",
        "        images, labels = images.to(device), labels.to(device)\n",
        "        model = RPSModule().to(DEVICE)\n",
        "        optimizer.zero_grad()\n",
        "        outputs = RPSModule()(images)\n",
        "        loss = loss_fn(outputs, labels)\n",
        "        loss.backward()\n",
        "        optimizer.step()\n",
        "\n",
        "        for metric in metrics_map.values():\n",
        "            metric(outputs, labels)\n",
        "\n",
        "# Initialize your model, optimizer, and dataset loaders\n",
        "# Assuming you have already defined your model, optimizer, and dataset loaders\n",
        "optimizer = optim.Adam(RPSModule().parameters(), lr=LEARNING_RATE)\n",
        "# Example of using the trainer function\n",
        "for epoch in range(NUM_EPOCHS):\n",
        "    train(RPSModule, optimizer, train_loader, loss_fn, metrics_map, DEVICE)\n",
        "\n",
        "    # Calculate and print metrics at the end of each epoch\n",
        "    for metric_name, metric in metrics_map.items():\n",
        "        print(f\"Epoch {epoch + 1}, {metric_name}: {metric.compute().item()}\")\n"
      ]
    },
    {
      "cell_type": "code",
      "execution_count": null,
      "metadata": {
        "id": "VlRsVA-NAH3e"
      },
      "outputs": [],
      "source": [
        "model = RPSModule().to(DEVICE)"
      ]
    }
  ],
  "metadata": {
    "accelerator": "GPU",
    "colab": {
      "gpuType": "T4",
      "provenance": []
    },
    "kernelspec": {
      "display_name": "Python 3",
      "name": "python3"
    },
    "language_info": {
      "name": "python"
    }
  },
  "nbformat": 4,
  "nbformat_minor": 0
}