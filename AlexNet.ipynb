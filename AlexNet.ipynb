{
  "nbformat": 4,
  "nbformat_minor": 0,
  "metadata": {
    "colab": {
      "provenance": [],
      "gpuType": "T4"
    },
    "kernelspec": {
      "name": "python3",
      "display_name": "Python 3"
    },
    "language_info": {
      "name": "python"
    },
    "accelerator": "GPU"
  },
  "cells": [
    {
      "cell_type": "markdown",
      "source": [
        "##MNIST DATSET"
      ],
      "metadata": {
        "id": "IIlG1qmnj4T7"
      }
    },
    {
      "cell_type": "code",
      "execution_count": null,
      "metadata": {
        "id": "suYOLceAm-nk"
      },
      "outputs": [],
      "source": [
        "import torch\n",
        "import torch.nn as nn\n",
        "import torchvision.datasets as dset\n",
        "import torchvision.transforms as transforms\n",
        "from torch.autograd import Variable\n",
        "import torch.nn.functional as F\n",
        "import torch.optim as optim\n",
        "import matplotlib.pyplot as plt\n",
        "from tqdm import tqdm"
      ]
    },
    {
      "cell_type": "code",
      "source": [
        "device = \"cuda\" if torch.cuda.is_available() else \"cpu\"\n",
        "device"
      ],
      "metadata": {
        "colab": {
          "base_uri": "https://localhost:8080/",
          "height": 36
        },
        "id": "iX7_sR61nKQn",
        "outputId": "8d8f6ef1-f8f0-4552-878e-a4502d70ffd3"
      },
      "execution_count": null,
      "outputs": [
        {
          "output_type": "execute_result",
          "data": {
            "text/plain": [
              "'cuda'"
            ],
            "application/vnd.google.colaboratory.intrinsic+json": {
              "type": "string"
            }
          },
          "metadata": {},
          "execution_count": 11
        }
      ]
    },
    {
      "cell_type": "code",
      "source": [
        "trans = transforms.Compose([transforms.ToTensor(), transforms.Normalize((0.5,),(1.0))])\n",
        "train_set = dset.MNIST(root='./data', train=True, transform=trans, download=True)\n",
        "test_set = dset.MNIST(root='./data', train=False, transform=trans)\n",
        "batch_size = 32"
      ],
      "metadata": {
        "id": "GA6jrNlYo0GQ"
      },
      "execution_count": null,
      "outputs": []
    },
    {
      "cell_type": "code",
      "source": [
        "train_loader = torch.utils.data.DataLoader(dataset=train_set, batch_size=batch_size, shuffle=True)\n",
        "test_loader = torch.utils.data.DataLoader(dataset=test_set, batch_size = batch_size, shuffle=False)"
      ],
      "metadata": {
        "id": "mMI7W0xQz5bM"
      },
      "execution_count": null,
      "outputs": []
    },
    {
      "cell_type": "code",
      "source": [
        "class AlexNet(nn.Module):\n",
        "  def __init__(self, num=10):\n",
        "    super(AlexNet, self).__init__()\n",
        "    self.feature = nn.Sequential(\n",
        "        nn.Conv2d(1,32, kernel_size=5, stride=1, padding=1),\n",
        "        nn.ReLU(inplace=True),\n",
        "        nn.Conv2d(32,64, kernel_size=3, padding=1),\n",
        "        nn.ReLU(inplace=True),\n",
        "        nn.MaxPool2d(kernel_size=2, stride=2),\n",
        "        nn.Conv2d(64, 96, kernel_size=3, padding=1),\n",
        "        nn.ReLU(inplace=True),\n",
        "        nn.Conv2d(96, 64, kernel_size=3, padding=1),\n",
        "        nn.ReLU(inplace=True),\n",
        "        nn.Conv2d(64, 32, kernel_size=3, padding=1),\n",
        "        nn.ReLU(inplace=True),\n",
        "        nn.MaxPool2d(kernel_size=2, stride=1)\n",
        "    )\n",
        "\n",
        "    self.classifier = nn.Sequential(\n",
        "        nn.Dropout(),\n",
        "        nn.Linear(32*12*12, 2048),\n",
        "        nn.ReLU(inplace=True),\n",
        "        nn.Dropout(),\n",
        "        nn.Linear(2048, 1024),\n",
        "        nn.ReLU(inplace=True),\n",
        "        nn.Linear(1024, num)\n",
        "    )\n",
        "\n",
        "  def forward(self, x):\n",
        "    x=self.feature(x)\n",
        "    x=x.view(-1,32*12*12)\n",
        "    x=self.classifier(x)\n",
        "    return x"
      ],
      "metadata": {
        "id": "CzfYHkKYpkhB"
      },
      "execution_count": null,
      "outputs": []
    },
    {
      "cell_type": "code",
      "source": [
        "def accuracy_fn(y_true, y_pred):\n",
        "  correct = torch.eq(y_true, y_pred).sum().item()\n",
        "  acc = (correct/len(y_pred))*100\n",
        "  return acc"
      ],
      "metadata": {
        "id": "HBE0ya-5swoX"
      },
      "execution_count": null,
      "outputs": []
    },
    {
      "cell_type": "code",
      "source": [
        "def train(model, data_loader, loss_fn, optimizer, accuracy_fn, train_losses, train_accuracy, device=device):\n",
        "  model.to(device)\n",
        "  model.train()\n",
        "  train_loss, train_acc = 0,0\n",
        "  for batch, (X,y) in enumerate(data_loader):\n",
        "    X, y = X.to(device), y.to(device)\n",
        "    optimizer.zero_grad()\n",
        "    y_pred = model(X)\n",
        "    loss = loss_fn(y_pred, y)\n",
        "    loss.backward()\n",
        "    optimizer.step()\n",
        "    train_loss += loss.item()\n",
        "    train_acc += accuracy_fn(y_true=y, y_pred = y_pred.argmax(dim=1))\n",
        "  train_loss /= len(data_loader)\n",
        "  train_acc /= len(data_loader)\n",
        "  train_losses.append(train_loss)\n",
        "  train_accuracy.append(train_acc)\n",
        "  print(f\"Train loss: {train_loss:.5f} | Train accuracy: {train_acc:.2f}%\")"
      ],
      "metadata": {
        "id": "URuBs8g5tIMn"
      },
      "execution_count": null,
      "outputs": []
    },
    {
      "cell_type": "code",
      "source": [
        "def test(data_loader, model, loss_fn, accuracy_fn, test_losses, test_accuracy, device=device):\n",
        "  model.to(device)\n",
        "  model.eval()\n",
        "  test_loss, test_acc = 0,0\n",
        "  with torch.inference_mode():\n",
        "    for X, y in data_loader:\n",
        "      X, y = X.to(device), y.to(device)\n",
        "      test_pred = model(X)\n",
        "      loss = loss_fn(test_pred, y)\n",
        "      test_loss += loss.item()\n",
        "      test_acc += accuracy_fn(y_true=y, y_pred = test_pred.argmax(dim=1))\n",
        "    test_loss /= len(data_loader)\n",
        "    test_acc /= len(data_loader)\n",
        "    test_losses.append(test_loss)\n",
        "    test_accuracy.append(test_acc)\n",
        "    print(f\"Test loss: {test_loss:.5f} | Test accuracy: {test_acc:.2f}%\\n\")"
      ],
      "metadata": {
        "id": "RN6PsRHCwSaN"
      },
      "execution_count": null,
      "outputs": []
    },
    {
      "cell_type": "code",
      "source": [
        "model = AlexNet()\n",
        "print(model)\n",
        "model.to(device)\n",
        "optimizer = optim.SGD(model.parameters(), lr=0.01)\n",
        "loss_fn = nn.CrossEntropyLoss()\n",
        "\n",
        "epochs = 10\n",
        "train_losses = []\n",
        "train_accuracy = []\n",
        "test_losses = []\n",
        "test_accuracy = []\n",
        "device\n",
        "for epoch in tqdm(range(epochs)):\n",
        "  print(f\"Epoch: {epoch}\\n-------\")\n",
        "  train(data_loader = train_loader,\n",
        "        model = model,\n",
        "        loss_fn = loss_fn,\n",
        "        optimizer = optimizer,\n",
        "        accuracy_fn = accuracy_fn,\n",
        "        device = device,\n",
        "        train_losses = train_losses,\n",
        "        train_accuracy = train_accuracy\n",
        "        )\n",
        "  test(data_loader = test_loader,\n",
        "       model = model,\n",
        "       loss_fn = loss_fn,\n",
        "       accuracy_fn = accuracy_fn,\n",
        "       device = device,\n",
        "       test_losses = test_losses,\n",
        "       test_accuracy = test_accuracy\n",
        "       )"
      ],
      "metadata": {
        "colab": {
          "base_uri": "https://localhost:8080/"
        },
        "id": "UAWqFJLHx0Ga",
        "outputId": "cb01dded-bf4e-43cf-e356-e97dbac1826c"
      },
      "execution_count": null,
      "outputs": [
        {
          "output_type": "stream",
          "name": "stdout",
          "text": [
            "AlexNet(\n",
            "  (feature): Sequential(\n",
            "    (0): Conv2d(1, 32, kernel_size=(5, 5), stride=(1, 1), padding=(1, 1))\n",
            "    (1): ReLU(inplace=True)\n",
            "    (2): Conv2d(32, 64, kernel_size=(3, 3), stride=(1, 1), padding=(1, 1))\n",
            "    (3): ReLU(inplace=True)\n",
            "    (4): MaxPool2d(kernel_size=2, stride=2, padding=0, dilation=1, ceil_mode=False)\n",
            "    (5): Conv2d(64, 96, kernel_size=(3, 3), stride=(1, 1), padding=(1, 1))\n",
            "    (6): ReLU(inplace=True)\n",
            "    (7): Conv2d(96, 64, kernel_size=(3, 3), stride=(1, 1), padding=(1, 1))\n",
            "    (8): ReLU(inplace=True)\n",
            "    (9): Conv2d(64, 32, kernel_size=(3, 3), stride=(1, 1), padding=(1, 1))\n",
            "    (10): ReLU(inplace=True)\n",
            "    (11): MaxPool2d(kernel_size=2, stride=1, padding=0, dilation=1, ceil_mode=False)\n",
            "  )\n",
            "  (classifier): Sequential(\n",
            "    (0): Dropout(p=0.5, inplace=False)\n",
            "    (1): Linear(in_features=4608, out_features=2048, bias=True)\n",
            "    (2): ReLU(inplace=True)\n",
            "    (3): Dropout(p=0.5, inplace=False)\n",
            "    (4): Linear(in_features=2048, out_features=1024, bias=True)\n",
            "    (5): ReLU(inplace=True)\n",
            "    (6): Linear(in_features=1024, out_features=10, bias=True)\n",
            "  )\n",
            ")\n"
          ]
        },
        {
          "output_type": "stream",
          "name": "stderr",
          "text": [
            "\r  0%|          | 0/10 [00:00<?, ?it/s]"
          ]
        },
        {
          "output_type": "stream",
          "name": "stdout",
          "text": [
            "Epoch: 0\n",
            "-------\n",
            "Train loss: 2.30142 | Train accuracy: 11.12%\n"
          ]
        },
        {
          "output_type": "stream",
          "name": "stderr",
          "text": [
            "\r 10%|█         | 1/10 [00:23<03:31, 23.50s/it]"
          ]
        },
        {
          "output_type": "stream",
          "name": "stdout",
          "text": [
            "Test loss: 2.30041 | Test accuracy: 11.35%\n",
            "\n",
            "Epoch: 1\n",
            "-------\n",
            "Train loss: 2.29896 | Train accuracy: 11.24%\n"
          ]
        },
        {
          "output_type": "stream",
          "name": "stderr",
          "text": [
            "\r 20%|██        | 2/10 [00:46<03:07, 23.38s/it]"
          ]
        },
        {
          "output_type": "stream",
          "name": "stdout",
          "text": [
            "Test loss: 2.28821 | Test accuracy: 11.60%\n",
            "\n",
            "Epoch: 2\n",
            "-------\n",
            "Train loss: 0.89997 | Train accuracy: 69.93%\n"
          ]
        },
        {
          "output_type": "stream",
          "name": "stderr",
          "text": [
            "\r 30%|███       | 3/10 [01:10<02:43, 23.32s/it]"
          ]
        },
        {
          "output_type": "stream",
          "name": "stdout",
          "text": [
            "Test loss: 0.15048 | Test accuracy: 95.32%\n",
            "\n",
            "Epoch: 3\n",
            "-------\n",
            "Train loss: 0.15701 | Train accuracy: 95.10%\n"
          ]
        },
        {
          "output_type": "stream",
          "name": "stderr",
          "text": [
            "\r 40%|████      | 4/10 [01:33<02:19, 23.31s/it]"
          ]
        },
        {
          "output_type": "stream",
          "name": "stdout",
          "text": [
            "Test loss: 0.07507 | Test accuracy: 97.49%\n",
            "\n",
            "Epoch: 4\n",
            "-------\n",
            "Train loss: 0.10161 | Train accuracy: 96.83%\n"
          ]
        },
        {
          "output_type": "stream",
          "name": "stderr",
          "text": [
            "\r 50%|█████     | 5/10 [01:57<01:57, 23.48s/it]"
          ]
        },
        {
          "output_type": "stream",
          "name": "stdout",
          "text": [
            "Test loss: 0.05381 | Test accuracy: 98.38%\n",
            "\n",
            "Epoch: 5\n",
            "-------\n",
            "Train loss: 0.07892 | Train accuracy: 97.46%\n"
          ]
        },
        {
          "output_type": "stream",
          "name": "stderr",
          "text": [
            "\r 60%|██████    | 6/10 [02:20<01:33, 23.46s/it]"
          ]
        },
        {
          "output_type": "stream",
          "name": "stdout",
          "text": [
            "Test loss: 0.04370 | Test accuracy: 98.55%\n",
            "\n",
            "Epoch: 6\n",
            "-------\n",
            "Train loss: 0.06850 | Train accuracy: 97.87%\n"
          ]
        },
        {
          "output_type": "stream",
          "name": "stderr",
          "text": [
            "\r 70%|███████   | 7/10 [02:43<01:10, 23.38s/it]"
          ]
        },
        {
          "output_type": "stream",
          "name": "stdout",
          "text": [
            "Test loss: 0.03859 | Test accuracy: 98.75%\n",
            "\n",
            "Epoch: 7\n",
            "-------\n",
            "Train loss: 0.05831 | Train accuracy: 98.20%\n"
          ]
        },
        {
          "output_type": "stream",
          "name": "stderr",
          "text": [
            "\r 80%|████████  | 8/10 [03:06<00:46, 23.33s/it]"
          ]
        },
        {
          "output_type": "stream",
          "name": "stdout",
          "text": [
            "Test loss: 0.03710 | Test accuracy: 98.80%\n",
            "\n",
            "Epoch: 8\n",
            "-------\n",
            "Train loss: 0.05397 | Train accuracy: 98.30%\n"
          ]
        },
        {
          "output_type": "stream",
          "name": "stderr",
          "text": [
            "\r 90%|█████████ | 9/10 [03:30<00:23, 23.35s/it]"
          ]
        },
        {
          "output_type": "stream",
          "name": "stdout",
          "text": [
            "Test loss: 0.03203 | Test accuracy: 98.95%\n",
            "\n",
            "Epoch: 9\n",
            "-------\n",
            "Train loss: 0.04777 | Train accuracy: 98.45%\n"
          ]
        },
        {
          "output_type": "stream",
          "name": "stderr",
          "text": [
            "100%|██████████| 10/10 [03:53<00:00, 23.39s/it]"
          ]
        },
        {
          "output_type": "stream",
          "name": "stdout",
          "text": [
            "Test loss: 0.02856 | Test accuracy: 98.95%\n",
            "\n"
          ]
        },
        {
          "output_type": "stream",
          "name": "stderr",
          "text": [
            "\n"
          ]
        }
      ]
    },
    {
      "cell_type": "code",
      "source": [
        "def plot_metrics(train_losses, train_accuracy, test_losses, test_accuracy):\n",
        "    plt.figure(figsize=(12, 4))\n",
        "    plt.subplot(1, 2, 1)\n",
        "    plt.plot(train_losses, label='Train Loss', color='blue')\n",
        "    plt.plot(test_losses, label='Test Loss', color='orange')\n",
        "    plt.xlabel('Epochs')\n",
        "    plt.ylabel('Loss')\n",
        "    plt.title('Training and Testing Loss')\n",
        "    plt.legend()\n",
        "\n",
        "    plt.subplot(1, 2, 2)\n",
        "    plt.plot(train_accuracy, label='Train Accuracy', color='blue')\n",
        "    plt.plot(test_accuracy, label='Test Accuracy', color='orange')\n",
        "    plt.xlabel('Epochs')\n",
        "    plt.ylabel('Accuracy')\n",
        "    plt.title('Training and Testing Accuracy')\n",
        "    plt.legend()\n",
        "\n",
        "    plt.tight_layout()\n",
        "    plt.show()\n",
        "\n",
        "plot_metrics(train_losses, train_accuracy, test_losses, test_accuracy)\n"
      ],
      "metadata": {
        "id": "XnWGwiTBzfuE",
        "colab": {
          "base_uri": "https://localhost:8080/",
          "height": 407
        },
        "outputId": "faf26c81-74cf-4418-d592-09a99366df54"
      },
      "execution_count": null,
      "outputs": [
        {
          "output_type": "display_data",
          "data": {
            "text/plain": [
              "<Figure size 1200x400 with 2 Axes>"
            ],
            "image/png": "[encoded data removed]"
          },
          "metadata": {}
        }
      ]
    },
    {
      "cell_type": "markdown",
      "source": [
        "##SIFAR DATSET"
      ],
      "metadata": {
        "id": "SAkvd25occ62"
      }
    },
    {
      "cell_type": "code",
      "source": [
        "trans_1 = transforms.Compose([transforms.ToTensor(), transforms.Normalize((0.5, 0.5, 0.5), (1.0, 1.0, 1.0))])\n",
        "train_set_1 = dset.CIFAR10(root='./data', train=True, transform=trans, download=True)\n",
        "test_set_1 = dset.CIFAR10(root='./data', train=False, transform=trans)\n",
        "batch_size = 32"
      ],
      "metadata": {
        "colab": {
          "base_uri": "https://localhost:8080/"
        },
        "id": "ZRt7gvyTcSIM",
        "outputId": "2540b3e9-9070-4b01-f868-cab246d98468"
      },
      "execution_count": null,
      "outputs": [
        {
          "output_type": "stream",
          "name": "stdout",
          "text": [
            "Downloading https://www.cs.toronto.edu/~kriz/cifar-10-python.tar.gz to ./data/cifar-10-python.tar.gz\n"
          ]
        },
        {
          "output_type": "stream",
          "name": "stderr",
          "text": [
            "100%|██████████| 170498071/170498071 [00:02<00:00, 80321485.67it/s]\n"
          ]
        },
        {
          "output_type": "stream",
          "name": "stdout",
          "text": [
            "Extracting ./data/cifar-10-python.tar.gz to ./data\n"
          ]
        }
      ]
    },
    {
      "cell_type": "code",
      "source": [
        "train_loader = torch.utils.data.DataLoader(dataset=train_set_1, batch_size=batch_size, shuffle=True)\n",
        "test_loader = torch.utils.data.DataLoader(dataset=test_set_1, batch_size = batch_size, shuffle=False)"
      ],
      "metadata": {
        "id": "SGYrw07SdUOD"
      },
      "execution_count": null,
      "outputs": []
    },
    {
      "cell_type": "code",
      "source": [
        "class AlexNet(nn.Module):\n",
        "  def __init__(self, num=10):\n",
        "    super(AlexNet, self).__init__()\n",
        "    self.feature = nn.Sequential(\n",
        "        nn.Conv2d(3, 64, kernel_size=3, stride=1, padding=1),\n",
        "          nn.ReLU(inplace=True),\n",
        "          nn.MaxPool2d(kernel_size=2, stride=2),\n",
        "          nn.Conv2d(64, 256, kernel_size=3, padding=1),\n",
        "          nn.ReLU(inplace=True),\n",
        "          nn.MaxPool2d(kernel_size=2, stride=2),\n",
        "          nn.Conv2d(256, 512, kernel_size=3, padding=1),\n",
        "          nn.ReLU(inplace=True),\n",
        "          nn.Conv2d(512, 256, kernel_size=3, padding=1),\n",
        "          nn.ReLU(inplace=True),\n",
        "          nn.Conv2d(256, 256, kernel_size=3, padding=1),\n",
        "          nn.ReLU(inplace=True),\n",
        "          nn.MaxPool2d(kernel_size=2, stride=2)\n",
        "    )\n",
        "\n",
        "    self.classifier = nn.Sequential(\n",
        "        nn.Dropout(),\n",
        "        nn.Linear(256 * 4 * 4, 4096),\n",
        "        nn.ReLU(inplace=True),\n",
        "        nn.Dropout(),\n",
        "        nn.Linear(4096, 4096),\n",
        "        nn.ReLU(inplace=True),\n",
        "        nn.Linear(4096, num)\n",
        "    )\n",
        "\n",
        "  def forward(self, x):\n",
        "    x=self.feature(x)\n",
        "    x=x.view(-1,256*4*4)\n",
        "    x=self.classifier(x)\n",
        "    return x"
      ],
      "metadata": {
        "id": "Z_Ii6GCLdbcU"
      },
      "execution_count": null,
      "outputs": []
    },
    {
      "cell_type": "code",
      "source": [
        "def accuracy_fn(y_true, y_pred):\n",
        "  correct = torch.eq(y_true, y_pred).sum().item()\n",
        "  acc = (correct/len(y_pred))*100\n",
        "  return acc"
      ],
      "metadata": {
        "id": "VbZRLhVcdqZI"
      },
      "execution_count": null,
      "outputs": []
    },
    {
      "cell_type": "code",
      "source": [
        "def train(model, data_loader, loss_fn, optimizer, accuracy_fn, train_losses, train_accuracy, device=device):\n",
        "  model.to(device)\n",
        "  model.train()\n",
        "  train_loss, train_acc = 0,0\n",
        "  for batch, (X,y) in enumerate(data_loader):\n",
        "    X, y = X.to(device), y.to(device)\n",
        "    optimizer.zero_grad()\n",
        "    y_pred = model(X)\n",
        "    loss = loss_fn(y_pred, y)\n",
        "    loss.backward()\n",
        "    optimizer.step()\n",
        "    train_loss += loss.item()\n",
        "    train_acc += accuracy_fn(y_true=y, y_pred = y_pred.argmax(dim=1))\n",
        "  train_loss /= len(data_loader)\n",
        "  train_acc /= len(data_loader)\n",
        "  train_losses.append(train_loss)\n",
        "  train_accuracy.append(train_acc)\n",
        "  print(f\"Train loss: {train_loss:.5f} | Train accuracy: {train_acc:.2f}%\")"
      ],
      "metadata": {
        "id": "_sAA2dwedwdh"
      },
      "execution_count": null,
      "outputs": []
    },
    {
      "cell_type": "code",
      "source": [
        "def test(data_loader, model, loss_fn, accuracy_fn, test_losses, test_accuracy, device=device):\n",
        "  model.to(device)\n",
        "  model.eval()\n",
        "  test_loss, test_acc = 0,0\n",
        "  with torch.inference_mode():\n",
        "    for X, y in data_loader:\n",
        "      X, y = X.to(device), y.to(device)\n",
        "      test_pred = model(X)\n",
        "      loss = loss_fn(test_pred, y)\n",
        "      test_loss += loss.item()\n",
        "      test_acc += accuracy_fn(y_true=y, y_pred = test_pred.argmax(dim=1))\n",
        "    test_loss /= len(data_loader)\n",
        "    test_acc /= len(data_loader)\n",
        "    test_losses.append(test_loss)\n",
        "    test_accuracy.append(test_acc)\n",
        "    print(f\"Test loss: {test_loss:.5f} | Test accuracy: {test_acc:.2f}%\\n\")"
      ],
      "metadata": {
        "id": "jIUMRSC3dzm6"
      },
      "execution_count": null,
      "outputs": []
    },
    {
      "cell_type": "code",
      "source": [
        "model = AlexNet()\n",
        "print(model)\n",
        "model.to(device)\n",
        "optimizer = optim.SGD(model.parameters(), lr=0.01)\n",
        "loss_fn = nn.CrossEntropyLoss()\n",
        "\n",
        "epochs = 10\n",
        "train_losses = []\n",
        "train_accuracy = []\n",
        "test_losses = []\n",
        "test_accuracy = []\n",
        "device\n",
        "for epoch in tqdm(range(epochs)):\n",
        "  print(f\"Epoch: {epoch}\\n-------\")\n",
        "  train(data_loader = train_loader,\n",
        "        model = model,\n",
        "        loss_fn = loss_fn,\n",
        "        optimizer = optimizer,\n",
        "        accuracy_fn = accuracy_fn,\n",
        "        device = device,\n",
        "        train_losses = train_losses,\n",
        "        train_accuracy = train_accuracy\n",
        "        )\n",
        "  test(data_loader = test_loader,\n",
        "       model = model,\n",
        "       loss_fn = loss_fn,\n",
        "       accuracy_fn = accuracy_fn,\n",
        "       device = device,\n",
        "       test_losses = test_losses,\n",
        "       test_accuracy = test_accuracy\n",
        "       )"
      ],
      "metadata": {
        "colab": {
          "base_uri": "https://localhost:8080/"
        },
        "id": "B4Fn2bQNd3kr",
        "outputId": "dc8dc743-01f5-4a52-8e85-e9ad1b106207"
      },
      "execution_count": null,
      "outputs": [
        {
          "output_type": "stream",
          "name": "stdout",
          "text": [
            "AlexNet(\n",
            "  (feature): Sequential(\n",
            "    (0): Conv2d(3, 64, kernel_size=(3, 3), stride=(1, 1), padding=(1, 1))\n",
            "    (1): ReLU(inplace=True)\n",
            "    (2): MaxPool2d(kernel_size=2, stride=2, padding=0, dilation=1, ceil_mode=False)\n",
            "    (3): Conv2d(64, 256, kernel_size=(3, 3), stride=(1, 1), padding=(1, 1))\n",
            "    (4): ReLU(inplace=True)\n",
            "    (5): MaxPool2d(kernel_size=2, stride=2, padding=0, dilation=1, ceil_mode=False)\n",
            "    (6): Conv2d(256, 512, kernel_size=(3, 3), stride=(1, 1), padding=(1, 1))\n",
            "    (7): ReLU(inplace=True)\n",
            "    (8): Conv2d(512, 256, kernel_size=(3, 3), stride=(1, 1), padding=(1, 1))\n",
            "    (9): ReLU(inplace=True)\n",
            "    (10): Conv2d(256, 256, kernel_size=(3, 3), stride=(1, 1), padding=(1, 1))\n",
            "    (11): ReLU(inplace=True)\n",
            "    (12): MaxPool2d(kernel_size=2, stride=2, padding=0, dilation=1, ceil_mode=False)\n",
            "  )\n",
            "  (classifier): Sequential(\n",
            "    (0): Dropout(p=0.5, inplace=False)\n",
            "    (1): Linear(in_features=4096, out_features=4096, bias=True)\n",
            "    (2): ReLU(inplace=True)\n",
            "    (3): Dropout(p=0.5, inplace=False)\n",
            "    (4): Linear(in_features=4096, out_features=4096, bias=True)\n",
            "    (5): ReLU(inplace=True)\n",
            "    (6): Linear(in_features=4096, out_features=10, bias=True)\n",
            "  )\n",
            ")\n"
          ]
        },
        {
          "output_type": "stream",
          "name": "stderr",
          "text": [
            "\r  0%|          | 0/10 [00:00<?, ?it/s]"
          ]
        },
        {
          "output_type": "stream",
          "name": "stdout",
          "text": [
            "Epoch: 0\n",
            "-------\n",
            "Train loss: 2.30260 | Train accuracy: 10.26%\n"
          ]
        },
        {
          "output_type": "stream",
          "name": "stderr",
          "text": [
            "\r 10%|█         | 1/10 [00:31<04:47, 31.91s/it]"
          ]
        },
        {
          "output_type": "stream",
          "name": "stdout",
          "text": [
            "Test loss: 2.30228 | Test accuracy: 10.01%\n",
            "\n",
            "Epoch: 1\n",
            "-------\n",
            "Train loss: 2.30215 | Train accuracy: 10.58%\n"
          ]
        },
        {
          "output_type": "stream",
          "name": "stderr",
          "text": [
            "\r 20%|██        | 2/10 [01:02<04:09, 31.24s/it]"
          ]
        },
        {
          "output_type": "stream",
          "name": "stdout",
          "text": [
            "Test loss: 2.30127 | Test accuracy: 10.01%\n",
            "\n",
            "Epoch: 2\n",
            "-------\n",
            "Train loss: 2.29873 | Train accuracy: 13.59%\n"
          ]
        },
        {
          "output_type": "stream",
          "name": "stderr",
          "text": [
            "\r 30%|███       | 3/10 [01:33<03:38, 31.20s/it]"
          ]
        },
        {
          "output_type": "stream",
          "name": "stdout",
          "text": [
            "Test loss: 2.28383 | Test accuracy: 19.70%\n",
            "\n",
            "Epoch: 3\n",
            "-------\n",
            "Train loss: 2.08798 | Train accuracy: 22.77%\n"
          ]
        },
        {
          "output_type": "stream",
          "name": "stderr",
          "text": [
            "\r 40%|████      | 4/10 [02:04<03:06, 31.09s/it]"
          ]
        },
        {
          "output_type": "stream",
          "name": "stdout",
          "text": [
            "Test loss: 1.98084 | Test accuracy: 27.81%\n",
            "\n",
            "Epoch: 4\n",
            "-------\n",
            "Train loss: 1.80162 | Train accuracy: 32.38%\n"
          ]
        },
        {
          "output_type": "stream",
          "name": "stderr",
          "text": [
            "\r 50%|█████     | 5/10 [02:36<02:35, 31.15s/it]"
          ]
        },
        {
          "output_type": "stream",
          "name": "stdout",
          "text": [
            "Test loss: 1.62421 | Test accuracy: 39.24%\n",
            "\n",
            "Epoch: 5\n",
            "-------\n",
            "Train loss: 1.63252 | Train accuracy: 39.12%\n"
          ]
        },
        {
          "output_type": "stream",
          "name": "stderr",
          "text": [
            "\r 60%|██████    | 6/10 [03:07<02:05, 31.32s/it]"
          ]
        },
        {
          "output_type": "stream",
          "name": "stdout",
          "text": [
            "Test loss: 1.59863 | Test accuracy: 41.32%\n",
            "\n",
            "Epoch: 6\n",
            "-------\n",
            "Train loss: 1.52857 | Train accuracy: 43.36%\n"
          ]
        },
        {
          "output_type": "stream",
          "name": "stderr",
          "text": [
            "\r 70%|███████   | 7/10 [03:38<01:33, 31.18s/it]"
          ]
        },
        {
          "output_type": "stream",
          "name": "stdout",
          "text": [
            "Test loss: 1.47054 | Test accuracy: 45.40%\n",
            "\n",
            "Epoch: 7\n",
            "-------\n",
            "Train loss: 1.43797 | Train accuracy: 46.54%\n"
          ]
        },
        {
          "output_type": "stream",
          "name": "stderr",
          "text": [
            "\r 80%|████████  | 8/10 [04:09<01:02, 31.14s/it]"
          ]
        },
        {
          "output_type": "stream",
          "name": "stdout",
          "text": [
            "Test loss: 1.59684 | Test accuracy: 42.60%\n",
            "\n",
            "Epoch: 8\n",
            "-------\n",
            "Train loss: 1.35385 | Train accuracy: 50.07%\n"
          ]
        },
        {
          "output_type": "stream",
          "name": "stderr",
          "text": [
            "\r 90%|█████████ | 9/10 [04:40<00:31, 31.20s/it]"
          ]
        },
        {
          "output_type": "stream",
          "name": "stdout",
          "text": [
            "Test loss: 1.36939 | Test accuracy: 50.57%\n",
            "\n",
            "Epoch: 9\n",
            "-------\n",
            "Train loss: 1.28128 | Train accuracy: 53.24%\n"
          ]
        },
        {
          "output_type": "stream",
          "name": "stderr",
          "text": [
            "100%|██████████| 10/10 [05:11<00:00, 31.17s/it]"
          ]
        },
        {
          "output_type": "stream",
          "name": "stdout",
          "text": [
            "Test loss: 1.21254 | Test accuracy: 55.53%\n",
            "\n"
          ]
        },
        {
          "output_type": "stream",
          "name": "stderr",
          "text": [
            "\n"
          ]
        }
      ]
    },
    {
      "cell_type": "code",
      "source": [
        "plot_metrics(train_losses, train_accuracy, test_losses, test_accuracy)"
      ],
      "metadata": {
        "colab": {
          "base_uri": "https://localhost:8080/",
          "height": 407
        },
        "id": "UFMo1ObsgEvg",
        "outputId": "26dec43d-8588-4d60-fadf-ad8737771634"
      },
      "execution_count": null,
      "outputs": [
        {
          "output_type": "display_data",
          "data": {
            "text/plain": [
              "<Figure size 1200x400 with 2 Axes>"
            ],
            "image/png": "[encoded data removed]"
          },
          "metadata": {}
        }
      ]
    },
    {
      "cell_type": "code",
      "source": [],
      "metadata": {
        "id": "2Q464Iv3hnlL"
      },
      "execution_count": null,
      "outputs": []
    }
  ]
}